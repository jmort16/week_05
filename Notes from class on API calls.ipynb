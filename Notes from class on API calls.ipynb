{
 "cells": [
  {
   "cell_type": "markdown",
   "id": "8e7bfc67",
   "metadata": {},
   "source": [
    "# Notes from class re: APIs"
   ]
  },
  {
   "cell_type": "markdown",
   "id": "cc3d2110",
   "metadata": {},
   "source": [
    "# Initial Set-Up"
   ]
  },
  {
   "cell_type": "code",
   "execution_count": 1,
   "id": "27d93485",
   "metadata": {},
   "outputs": [],
   "source": [
    "# Don't modify this cell.\n",
    "# Dependencies and Setup\n",
    "import matplotlib.pyplot as plt\n",
    "import pandas as pd\n",
    "import numpy as np\n",
    "import requests\n",
    "import time\n",
    "from pprint import pprint\n",
    "\n",
    "# Import API key\n",
    "import api_keys\n",
    "\n",
    "# Incorporated citipy to determine city based on latitude and longitude\n",
    "from citipy import citipy\n",
    "\n",
    "# Range of latitudes and longitudes\n",
    "lat_range = (-90, 90)\n",
    "lng_range = (-180, 180)"
   ]
  },
  {
   "cell_type": "markdown",
   "id": "fef77f0f",
   "metadata": {},
   "source": [
    "# Generate Cities List"
   ]
  },
  {
   "cell_type": "code",
   "execution_count": 2,
   "id": "60cba4ed",
   "metadata": {},
   "outputs": [
    {
     "data": {
      "text/plain": [
       "614"
      ]
     },
     "execution_count": 2,
     "metadata": {},
     "output_type": "execute_result"
    }
   ],
   "source": [
    "# Don't modify this cell\n",
    "# List for holding lat_lngs and cities\n",
    "lat_lngs = []\n",
    "cities = []\n",
    "\n",
    "# Create a set of random lat and lng combinations\n",
    "lats = np.random.uniform(low=-90.000, high=90.000, size=1500)\n",
    "lngs = np.random.uniform(low=-180.000, high=180.000, size=1500)\n",
    "lat_lngs = zip(lats, lngs)\n",
    "\n",
    "# Identify nearest city for each lat, lng combination\n",
    "for lat_lng in lat_lngs:\n",
    "    city = citipy.nearest_city(lat_lng[0], lat_lng[1]).city_name\n",
    "    \n",
    "    # If the city is unique, then add it to a our cities list\n",
    "    if city not in cities:\n",
    "        cities.append(city)\n",
    "\n",
    "# Print the city count to confirm sufficient count\n",
    "len(cities)"
   ]
  },
  {
   "cell_type": "markdown",
   "id": "6dd4dc36",
   "metadata": {},
   "source": [
    "# Get API Key"
   ]
  },
  {
   "cell_type": "code",
   "execution_count": 3,
   "id": "c3908a7a",
   "metadata": {},
   "outputs": [
    {
     "name": "stdout",
     "output_type": "stream",
     "text": [
      "8b14b01e177fc9e53bfabce4e093d205\n"
     ]
    }
   ],
   "source": [
    "from api_keys import api_key\n",
    "print(api_key)\n",
    "\n",
    "#you import a variable named api_key\n",
    "#the file is called api_keys\n",
    "#the interpreter assumes it's a .py file, so you don't need to specify"
   ]
  },
  {
   "cell_type": "markdown",
   "id": "886fcb26",
   "metadata": {},
   "source": [
    "# Perform API calls"
   ]
  },
  {
   "cell_type": "code",
   "execution_count": 4,
   "id": "1bfbef85",
   "metadata": {},
   "outputs": [
    {
     "name": "stdout",
     "output_type": "stream",
     "text": [
      "{'coord': {'lon': -90.1979, 'lat': 38.6273}, 'weather': [{'id': 802, 'main': 'Clouds', 'description': 'scattered clouds', 'icon': '03d'}], 'base': 'stations', 'main': {'temp': 51.01, 'feels_like': 47.88, 'temp_min': 48.34, 'temp_max': 54.25, 'pressure': 1029, 'humidity': 44}, 'visibility': 10000, 'wind': {'speed': 1.99, 'deg': 180, 'gust': 4}, 'clouds': {'all': 48}, 'dt': 1635973217, 'sys': {'type': 2, 'id': 2009674, 'country': 'US', 'sunrise': 1635942598, 'sunset': 1635980320}, 'timezone': -18000, 'id': 4407066, 'name': 'St Louis', 'cod': 200}\n",
      "http://api.openweathermap.org/data/2.5/weather?units=Imperial&APPID=8b14b01e177fc9e53bfabce4e093d205&q=st. louis\n"
     ]
    }
   ],
   "source": [
    "# for city in cities\n",
    "\n",
    "import requests\n",
    "\n",
    "base_url = \"http://api.openweathermap.org/data/2.5/weather?units=Imperial&APPID=\" + api_key\n",
    "city = 'st. louis'\n",
    "\n",
    "#q represents the city\n",
    "req = requests.get(base_url + f'&q={city}')\n",
    "\n",
    "#create a json output of the data\n",
    "json_data=req.json()\n",
    "print(json_data)\n",
    "\n",
    "#you can play around with the full url in your browser if you're stuck\n",
    "print(base_url + f'&q={city}')\n",
    "\n",
    "#requests library/module is used to send all types of http requests\n",
    "url = 'http://www.example.com'\n",
    "req=requests.get(url)"
   ]
  },
  {
   "cell_type": "code",
   "execution_count": null,
   "id": "9f1f3e9d",
   "metadata": {},
   "outputs": [],
   "source": [
    "main=json_data['main']\n",
    "print(main)"
   ]
  },
  {
   "cell_type": "code",
   "execution_count": null,
   "id": "bfc151eb",
   "metadata": {},
   "outputs": [],
   "source": [
    "coord=json_data['coord']\n",
    "print(coord)"
   ]
  },
  {
   "cell_type": "code",
   "execution_count": null,
   "id": "0c1befa8",
   "metadata": {},
   "outputs": [],
   "source": [
    "weather_desc=json_data['weather'][0]['description']\n",
    "print(weather_desc)"
   ]
  },
  {
   "cell_type": "code",
   "execution_count": null,
   "id": "41c9cfd8",
   "metadata": {},
   "outputs": [],
   "source": [
    "cities_list=['denver', 'st louis', 'phoenix']\n",
    "\n",
    "city_weather =  {'city':[], \n",
    "                 'humidity':[],\n",
    "                 'pressure':[]}\n",
    "\n",
    "#loop over cities and add data to dictionary\n",
    "for city in cities_list:\n",
    "    base_url = \"http://api.openweathermap.org/data/2.5/weather?units=Imperial&APPID=\" + api_key\n",
    "\n",
    "    try:\n",
    "        #q represents the city\n",
    "        req = requests.get(base_url + f'&q={city}')\n",
    "        \n",
    "        data = req.json()\n",
    "        \n",
    "        #add values to our city_weather dictionary\n",
    "        city_weather['city'].append(data[name])\n",
    "        city_weather['humidity'].append(data[main][humidity])\n",
    "        city_weather['pressure'].append(data[main][pressure])\n",
    "    except:\n",
    "        print(city + 'not found')\n",
    "        pass\n",
    "    "
   ]
  },
  {
   "cell_type": "code",
   "execution_count": null,
   "id": "27a92412",
   "metadata": {},
   "outputs": [],
   "source": [
    "city_weather"
   ]
  },
  {
   "cell_type": "code",
   "execution_count": null,
   "id": "721ad0ca",
   "metadata": {},
   "outputs": [],
   "source": [
    "weather_df=pd.DataFrame.from_dict(city_weather)\n",
    "weather_df"
   ]
  }
 ],
 "metadata": {
  "kernelspec": {
   "display_name": "Python 3 (ipykernel)",
   "language": "python",
   "name": "python3"
  },
  "language_info": {
   "codemirror_mode": {
    "name": "ipython",
    "version": 3
   },
   "file_extension": ".py",
   "mimetype": "text/x-python",
   "name": "python",
   "nbconvert_exporter": "python",
   "pygments_lexer": "ipython3",
   "version": "3.9.7"
  }
 },
 "nbformat": 4,
 "nbformat_minor": 5
}
