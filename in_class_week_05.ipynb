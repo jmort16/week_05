{
 "cells": [
  {
   "cell_type": "code",
   "execution_count": 1,
   "id": "ee24f22c",
   "metadata": {},
   "outputs": [],
   "source": [
    "#Question 1 --\n",
    "\n",
    "def orderer(numbah):\n",
    "    if numbah == False:\n",
    "        numbah = str(111111)\n",
    "    else:\n",
    "        numbah = str(numbah)\n",
    "        str_list = []\n",
    "    \n",
    "    for digit in numbah:\n",
    "        str_list.append(digit)\n",
    "        str_list.sort()\n",
    "        str_list.reverse()\n",
    "    ordered_list = ''.join(str_list)\n",
    "    print(ordered_list)"
   ]
  },
  {
   "cell_type": "code",
   "execution_count": 2,
   "id": "a8ba476e",
   "metadata": {
    "scrolled": true
   },
   "outputs": [
    {
     "name": "stdout",
     "output_type": "stream",
     "text": [
      "9876530\n"
     ]
    },
    {
     "ename": "TypeError",
     "evalue": "orderer() missing 1 required positional argument: 'numbah'",
     "output_type": "error",
     "traceback": [
      "\u001b[1;31m---------------------------------------------------------------------------\u001b[0m",
      "\u001b[1;31mTypeError\u001b[0m                                 Traceback (most recent call last)",
      "\u001b[1;32mC:\\Users\\JMORTE~1\\AppData\\Local\\Temp/ipykernel_8684/335642520.py\u001b[0m in \u001b[0;36m<module>\u001b[1;34m\u001b[0m\n\u001b[0;32m      2\u001b[0m \u001b[1;33m\u001b[0m\u001b[0m\n\u001b[0;32m      3\u001b[0m \u001b[1;33m\u001b[0m\u001b[0m\n\u001b[1;32m----> 4\u001b[1;33m \u001b[0morderer\u001b[0m\u001b[1;33m(\u001b[0m\u001b[1;33m)\u001b[0m\u001b[1;33m\u001b[0m\u001b[1;33m\u001b[0m\u001b[0m\n\u001b[0m\u001b[0;32m      5\u001b[0m \u001b[1;31m# ^^^^^ I don't see how I can avoid an error message when the orderer function is run without an input value.  I know that the\u001b[0m\u001b[1;33m\u001b[0m\u001b[1;33m\u001b[0m\u001b[0m\n\u001b[0;32m      6\u001b[0m \u001b[1;31m# instructions ask me to use 111111 in cases where no input is given, but I can't test for that inside my function's\u001b[0m\u001b[1;33m\u001b[0m\u001b[1;33m\u001b[0m\u001b[0m\n",
      "\u001b[1;31mTypeError\u001b[0m: orderer() missing 1 required positional argument: 'numbah'"
     ]
    }
   ],
   "source": [
    "orderer(8675309)\n",
    "\n",
    "\n",
    "orderer()\n",
    "# ^^^^^ I don't see how I can avoid an error message when the orderer function is run without an input value.  I know that the\n",
    "# instructions ask me to use 111111 in cases where no input is given, but I can't test for that inside my function's\n",
    "# definition because I get an error message on line 1."
   ]
  },
  {
   "cell_type": "code",
   "execution_count": 3,
   "id": "31c2e2cb",
   "metadata": {},
   "outputs": [
    {
     "name": "stdout",
     "output_type": "stream",
     "text": [
      "   Show Number    Air Date      Round                         Category  Value  \\\n",
      "0         4680  12/31/2004  Jeopardy!                          HISTORY  $200    \n",
      "1         4680  12/31/2004  Jeopardy!  ESPN's TOP 10 ALL-TIME ATHLETES  $200    \n",
      "2         4680  12/31/2004  Jeopardy!      EVERYBODY TALKS ABOUT IT...  $200    \n",
      "3         4680  12/31/2004  Jeopardy!                 THE COMPANY LINE  $200    \n",
      "4         4680  12/31/2004  Jeopardy!              EPITAPHS & TRIBUTES  $200    \n",
      "\n",
      "                                            Question      Answer  \n",
      "0  For the last 8 years of his life, Galileo was ...  Copernicus  \n",
      "1  No. 2: 1912 Olympian; football star at Carlisl...  Jim Thorpe  \n",
      "2  The city of Yuma in this state has a record av...     Arizona  \n",
      "3  In 1963, live on \"The Art Linkletter Show\", th...  McDonald's  \n",
      "4  Signer of the Dec. of Indep., framer of the Co...  John Adams  \n"
     ]
    },
    {
     "data": {
      "text/plain": [
       "(216930, 7)"
      ]
     },
     "execution_count": 3,
     "metadata": {},
     "output_type": "execute_result"
    }
   ],
   "source": [
    "# Question 2 --\n",
    "\n",
    "import pandas as pd\n",
    "\n",
    "jeopardy = pd.read_csv(\"C:\\\\Users\\jmortensen\\Documents\\CGDS\\Data-Science-Assignments\\course_material\\week_05\\JEOPARDY_CSV.csv\")\n",
    "print(pd.DataFrame(jeopardy.head()))\n",
    "#part A\n",
    "jeopardy.shape"
   ]
  },
  {
   "cell_type": "code",
   "execution_count": 4,
   "id": "9167ca41",
   "metadata": {},
   "outputs": [],
   "source": [
    "# There are 216930 rows.  Each row represents a question from an episode of Jeopardy."
   ]
  },
  {
   "cell_type": "code",
   "execution_count": 5,
   "id": "beab4b12",
   "metadata": {},
   "outputs": [
    {
     "name": "stdout",
     "output_type": "stream",
     "text": [
      "1984     23\n",
      "1985     16\n",
      "1986     25\n",
      "1987     22\n",
      "1988     22\n",
      "1989     36\n",
      "1990     73\n",
      "1991     24\n",
      "1992     32\n",
      "1993     35\n",
      "1994     19\n",
      "1995     19\n",
      "1996     83\n",
      "1997    221\n",
      "1998    223\n",
      "1999    229\n",
      "2000    225\n",
      "2001    203\n",
      "2002    114\n",
      "2003    158\n",
      "2004    220\n",
      "2005    225\n",
      "2006    230\n",
      "2007    231\n",
      "2008    232\n",
      "2009    226\n",
      "2010    231\n",
      "2011    224\n",
      "2012     19\n",
      "Name: Year, dtype: int64\n"
     ]
    }
   ],
   "source": [
    "#part B\n",
    "\n",
    "#Since I need to know the number of unique shows each year, I have to sort and slice the jeopardy dataframe to count those.\n",
    "\n",
    "# Dropping duplicates by Show Number\n",
    "no_dup_shows=jeopardy.drop_duplicates(subset =\"Show Number\")\n",
    "\n",
    "# Create a list of only the years from the \"Air Date\" column\n",
    "Year = []\n",
    "for yr in no_dup_shows[\" Air Date\"]:\n",
    "    year = yr[-4:]\n",
    "    Year.append(year)\n",
    "    \n",
    "# Add the \"Year\" list as a new column in the jeopardy dataframe\n",
    "Year_Series=pd.Series(Year, index=no_dup_shows.index)\n",
    "no_dup_shows = pd.concat([no_dup_shows, Year_Series.rename(\"Year\")], axis=1)\n",
    "\n",
    "#Sort according to year and show number\n",
    "no_dup_sorted=no_dup_shows.sort_values([\"Year\",\"Show Number\"])\n",
    "\n",
    "#Count the number of occurrences for each year in \"Year\" column (which is equal to number of shows in each year)\n",
    "num_of_shows_each_yr=no_dup_sorted[\"Year\"].value_counts()\n",
    "num_of_shows_each_yr_sorted=num_of_shows_each_yr.sort_index()\n",
    "print(num_of_shows_each_yr_sorted)"
   ]
  },
  {
   "cell_type": "code",
   "execution_count": 6,
   "id": "28454a9f",
   "metadata": {},
   "outputs": [],
   "source": [
    "#part C "
   ]
  },
  {
   "cell_type": "markdown",
   "id": "70c14245",
   "metadata": {},
   "source": [
    "# On average, how many questions are created for each episode of Jeopardy?"
   ]
  },
  {
   "cell_type": "code",
   "execution_count": 7,
   "id": "1c756de3",
   "metadata": {},
   "outputs": [],
   "source": [
    "#part D"
   ]
  },
  {
   "cell_type": "code",
   "execution_count": null,
   "id": "a887ed6e",
   "metadata": {},
   "outputs": [],
   "source": [
    "\n"
   ]
  },
  {
   "cell_type": "code",
   "execution_count": 8,
   "id": "3deb0d60",
   "metadata": {},
   "outputs": [
    {
     "name": "stdout",
     "output_type": "stream",
     "text": [
      "1       48\n",
      "2       50\n",
      "3       51\n",
      "4       53\n",
      "5       54\n",
      "        ..\n",
      "6295    58\n",
      "6296    61\n",
      "6297    59\n",
      "6298    61\n",
      "6300    30\n",
      "Name: Show Number, Length: 3640, dtype: int64\n"
     ]
    },
    {
     "data": {
      "text/plain": [
       "<function matplotlib.pyplot.show(close=None, block=None)>"
      ]
     },
     "execution_count": 8,
     "metadata": {},
     "output_type": "execute_result"
    },
    {
     "data": {
      "image/png": "[encoded data removed]",
      "text/plain": [
       "<Figure size 432x288 with 1 Axes>"
      ]
     },
     "metadata": {
      "needs_background": "light"
     },
     "output_type": "display_data"
    }
   ],
   "source": [
    "# Question 3 --\n",
    "\n",
    "import matplotlib.pyplot as plt\n",
    "\n",
    "year_lst=[]\n",
    "for i in jeopardy[\" Air Date\"]:\n",
    "    yr = i[-4:]\n",
    "    year_lst.append(yr)\n",
    "\n",
    "# Add \"year_list\" as a new column in the jeopardy dataframe\n",
    "jeopardy[\"Year\"]=year_lst\n",
    "num_of_questions_per_show=jeopardy[\"Show Number\"].value_counts()\n",
    "\n",
    "num_of_questions_per_show_sorted=num_of_questions_per_show.sort_index()\n",
    "print(num_of_questions_per_show_sorted)\n",
    "\n",
    "jeopardy[\"Show Number\"].hist(bins = 100)\n",
    "plt.show\n",
    "\n",
    "#This graph has no purpose, tbh.  With so few columns of numeric data, there aren't a lot of interesting options \n",
    "#for graphing.  Sorry.  I'm not even sure what these axes mean on the graph.  Please enlighten me if you have a minute\n",
    "#to do so."
   ]
  },
  {
   "cell_type": "code",
   "execution_count": null,
   "id": "cb4caaf6",
   "metadata": {},
   "outputs": [],
   "source": []
  }
 ],
 "metadata": {
  "kernelspec": {
   "display_name": "Python 3 (ipykernel)",
   "language": "python",
   "name": "python3"
  },
  "language_info": {
   "codemirror_mode": {
    "name": "ipython",
    "version": 3
   },
   "file_extension": ".py",
   "mimetype": "text/x-python",
   "name": "python",
   "nbconvert_exporter": "python",
   "pygments_lexer": "ipython3",
   "version": "3.9.7"
  }
 },
 "nbformat": 4,
 "nbformat_minor": 5
}
